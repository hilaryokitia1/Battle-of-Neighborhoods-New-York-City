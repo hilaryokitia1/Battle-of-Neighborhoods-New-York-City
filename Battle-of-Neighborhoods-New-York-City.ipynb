{
    "cells": [
        {
            "cell_type": "markdown",
            "metadata": {
                "collapsed": true
            },
            "source": "# Battle-of-Neighborhoods-New-York-City"
        },
        {
            "cell_type": "markdown",
            "metadata": {},
            "source": "# 1. Introduction"
        },
        {
            "cell_type": "markdown",
            "metadata": {},
            "source": "## 1.1 Background"
        },
        {
            "cell_type": "markdown",
            "metadata": {},
            "source": "New York City is the most populous city in the United States and is seen as the financial, media and cultural capital of the world. It is also a significant location for international diplomacy as it is home to the United Nations headquarters. The city has five boroughs and is linguistically very diverse. It has more than 3.2 million residents that are foreign-born, making it the largest city in the world with foreign-born population as of 2016. All the boroughs are culturally diverse. However, Africans in New York City for example, mostly live in the Bronx, Queens and Brooklyn, with few found in Manhattan and Staten Island. Due to the city\u2019s characteristics and location, it is a huge tourist hub as people all over the world visit the city annually in large numbers."
        },
        {
            "cell_type": "markdown",
            "metadata": {},
            "source": "## 1.2 Problem"
        },
        {
            "cell_type": "markdown",
            "metadata": {},
            "source": "New York City\u2019s diversity and characteristics comes with high demand for different cuisines. Restaurants are big part of the city\u2019s uniqueness as different delicacies can be found in the city. The essence of this project is to find out African restaurants in the five boroughs of the city. This will help Africans and individuals interested in African foods to know the areas with good African restaurants based average ratings. It will also enable individuals interested in setting up African restaurants to know viable boroughs for such business in the city."
        },
        {
            "cell_type": "markdown",
            "metadata": {},
            "source": "# 2. Data Sources and Approach"
        },
        {
            "cell_type": "markdown",
            "metadata": {},
            "source": "This project will focus on African restaurants in New York City and the borough with the best African restaurants. It will also help people interested in opening African restaurants to make informed decision based on availability of restaurants in the boroughs. The following data sources and approach will be used."
        },
        {
            "cell_type": "markdown",
            "metadata": {},
            "source": "## 2.1\tNew York City Neighborhood Data"
        },
        {
            "cell_type": "markdown",
            "metadata": {},
            "source": "This data contains the five boroughs in the city and their neighborhoods. It will give us a better understanding of the city\u2019s neighborhoods\n\nData source: https://cocl.us/new_york_dataset"
        },
        {
            "cell_type": "markdown",
            "metadata": {},
            "source": "## 2.2\tFoursquare API"
        },
        {
            "cell_type": "markdown",
            "metadata": {},
            "source": "This data will be used to get all the venues in the neighborhoods and retrieve African restaurants in these venues for further analysis in addressing the research problems\n\nData source : Foursquare"
        },
        {
            "cell_type": "markdown",
            "metadata": {},
            "source": "## 2.3\tApproach"
        },
        {
            "cell_type": "markdown",
            "metadata": {},
            "source": "* Retrieve New York City data from https://cocl.us/new_york_dataset\n* Retrieve all venues in the neighborhoods from Foursquare\n* Filter the venues from Foursquare to retrieve venues that have African restaurants\n* Get information on ratings, likes and tips count for each identified African restaurant using Foursquare API\n* Get information on the borough with best average rating for African restaurants using Foursquare API\n* Visualize findings using matplotlib and folium\n"
        },
        {
            "cell_type": "code",
            "execution_count": null,
            "metadata": {},
            "outputs": [],
            "source": ""
        }
    ],
    "metadata": {
        "kernelspec": {
            "display_name": "Python 3.6",
            "language": "python",
            "name": "python3"
        },
        "language_info": {
            "codemirror_mode": {
                "name": "ipython",
                "version": 3
            },
            "file_extension": ".py",
            "mimetype": "text/x-python",
            "name": "python",
            "nbconvert_exporter": "python",
            "pygments_lexer": "ipython3",
            "version": "3.6.9"
        }
    },
    "nbformat": 4,
    "nbformat_minor": 1
}